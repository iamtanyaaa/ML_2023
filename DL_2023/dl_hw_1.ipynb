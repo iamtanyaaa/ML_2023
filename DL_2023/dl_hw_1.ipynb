{
  "cells": [
    {
      "cell_type": "markdown",
      "metadata": {
        "id": "Q_upCOEI3Upu"
      },
      "source": [
        "# Основы глубинного обучения, майнор ИАД\n",
        "\n",
        "## Домашнее задание 1. Введение в PyTorch. Полносвязные нейронные сети.\n",
        "\n",
        "### Общая информация\n",
        "\n",
        "Дата выдачи: 01.10.2023\n",
        "\n",
        "Мягкий дедлайн: 23:59MSK 15.10.2023\n",
        "\n",
        "Жесткий дедлайн: 23:59MSK 20.10.2023\n",
        "\n",
        "### Оценивание и штрафы\n",
        "Максимально допустимая оценка за работу — 10 баллов. За каждый день просрочки снимается 1 балл. Сдавать задание после жёсткого дедлайна сдачи нельзя.\n",
        "\n",
        "Задание выполняется самостоятельно. «Похожие» решения считаются плагиатом и все задействованные студенты (в том числе те, у кого списали) не могут получить за него больше 0 баллов. Если вы нашли решение какого-то из заданий (или его часть) в открытом источнике, необходимо указать ссылку на этот источник в отдельном блоке в конце вашей работы (скорее всего вы будете не единственным, кто это нашел, поэтому чтобы исключить подозрение в плагиате, необходима ссылка на источник).\n",
        "\n",
        "Неэффективная реализация кода может негативно отразиться на оценке.\n",
        "Также оценка может быть снижена за плохо читаемый код и плохо оформленные графики. Все ответы должны сопровождаться кодом или комментариями о том, как они были получены.\n",
        "\n",
        "Итогова оценка считается как\n",
        "$$\n",
        "min(task_1, task_2)*0.8 + max(task_1, task_2)*0.2\n",
        "$$\n",
        "\n",
        "где task_1 и task_2 - оценки за первое и второе заданиее соответсвенно.\n",
        "Также, за домашнее задание выставляется 0, если не сделано нулевое или третье задание.\n",
        "### О задании\n",
        "\n",
        "В этом задании вам предстоит предсказывать год выпуска песни (**задача регрессии**) по некоторым звуковым признакам: [данные](https://archive.ics.uci.edu/ml/datasets/yearpredictionmsd). В ячейках ниже находится код для загрузки данных. Обратите внимание, что обучающая и тестовая выборки располагаются в одном файле, поэтому НЕ меняйте ячейку, в которой производится деление данных."
      ]
    },
    {
      "cell_type": "code",
      "execution_count": null,
      "metadata": {
        "id": "RI_eoe063VaP"
      },
      "outputs": [],
      "source": [
        "import torch\n",
        "from torch import nn\n",
        "import torch.nn.functional as F\n",
        "import pandas as pd\n",
        "import numpy as np\n",
        "import random\n",
        "device = \"cuda\" if torch.cuda.is_available() else \"cpu\"\n",
        "from tqdm.notebook import tqdm\n",
        "from IPython.display import clear_output\n",
        "import matplotlib.pyplot as plt"
      ]
    },
    {
      "cell_type": "code",
      "execution_count": null,
      "metadata": {
        "colab": {
          "base_uri": "https://localhost:8080/"
        },
        "id": "7NgSZeU-7vgj",
        "outputId": "c51b7710-e71c-4a53-89d9-d58fff3822d0"
      },
      "outputs": [
        {
          "output_type": "stream",
          "name": "stdout",
          "text": [
            "--2023-10-20 18:51:52--  https://archive.ics.uci.edu/ml/machine-learning-databases/00203/YearPredictionMSD.txt.zip\n",
            "Resolving archive.ics.uci.edu (archive.ics.uci.edu)... 128.195.10.252\n",
            "Connecting to archive.ics.uci.edu (archive.ics.uci.edu)|128.195.10.252|:443... connected.\n",
            "HTTP request sent, awaiting response... 200 OK\n",
            "Length: unspecified\n",
            "Saving to: ‘data.txt.zip’\n",
            "\n",
            "data.txt.zip            [             <=>    ] 201.24M  48.4MB/s    in 4.7s    \n",
            "\n",
            "2023-10-20 18:51:57 (42.9 MB/s) - ‘data.txt.zip’ saved [211011981]\n",
            "\n"
          ]
        }
      ],
      "source": [
        "!wget -O data.txt.zip https://archive.ics.uci.edu/ml/machine-learning-databases/00203/YearPredictionMSD.txt.zip"
      ]
    },
    {
      "cell_type": "code",
      "execution_count": null,
      "metadata": {
        "id": "DSVJZzkJ7zZE",
        "outputId": "cc26b58f-e4aa-434f-bda0-254bbe916bc3",
        "scrolled": false,
        "colab": {
          "base_uri": "https://localhost:8080/",
          "height": 255
        }
      },
      "outputs": [
        {
          "output_type": "execute_result",
          "data": {
            "text/plain": [
              "     0         1         2         3         4         5         6         7   \\\n",
              "0  2001  49.94357  21.47114  73.07750   8.74861 -17.40628 -13.09905 -25.01202   \n",
              "1  2001  48.73215  18.42930  70.32679  12.94636 -10.32437 -24.83777   8.76630   \n",
              "2  2001  50.95714  31.85602  55.81851  13.41693  -6.57898 -18.54940  -3.27872   \n",
              "3  2001  48.24750  -1.89837  36.29772   2.58776   0.97170 -26.21683   5.05097   \n",
              "4  2001  50.97020  42.20998  67.09964   8.46791 -15.85279 -16.81409 -12.48207   \n",
              "\n",
              "         8         9   ...        81         82        83        84        85  \\\n",
              "0 -12.23257   7.83089  ...  13.01620  -54.40548  58.99367  15.37344   1.11144   \n",
              "1  -0.92019  18.76548  ...   5.66812  -19.68073  33.04964  42.87836  -9.90378   \n",
              "2  -2.35035  16.07017  ...   3.03800   26.05866 -50.92779  10.93792  -0.07568   \n",
              "3 -10.34124   3.55005  ...  34.57337 -171.70734 -16.96705 -46.67617 -12.51516   \n",
              "4  -9.37636  12.63699  ...   9.92661  -55.95724  64.92712 -17.72522  -1.49237   \n",
              "\n",
              "         86         87        88         89        90  \n",
              "0 -23.08793   68.40795  -1.82223  -27.46348   2.26327  \n",
              "1 -32.22788   70.49388  12.04941   58.43453  26.92061  \n",
              "2  43.20130 -115.00698  -0.05859   39.67068  -0.66345  \n",
              "3  82.58061  -72.08993   9.90558  199.62971  18.85382  \n",
              "4  -7.50035   51.76631   7.88713   55.66926  28.74903  \n",
              "\n",
              "[5 rows x 91 columns]"
            ],
            "text/html": [
              "\n",
              "  <div id=\"df-9d1c093a-0199-4dc4-8fc3-6ac91cf1612e\" class=\"colab-df-container\">\n",
              "    <div>\n",
              "<style scoped>\n",
              "    .dataframe tbody tr th:only-of-type {\n",
              "        vertical-align: middle;\n",
              "    }\n",
              "\n",
              "    .dataframe tbody tr th {\n",
              "        vertical-align: top;\n",
              "    }\n",
              "\n",
              "    .dataframe thead th {\n",
              "        text-align: right;\n",
              "    }\n",
              "</style>\n",
              "<table border=\"1\" class=\"dataframe\">\n",
              "  <thead>\n",
              "    <tr style=\"text-align: right;\">\n",
              "      <th></th>\n",
              "      <th>0</th>\n",
              "      <th>1</th>\n",
              "      <th>2</th>\n",
              "      <th>3</th>\n",
              "      <th>4</th>\n",
              "      <th>5</th>\n",
              "      <th>6</th>\n",
              "      <th>7</th>\n",
              "      <th>8</th>\n",
              "      <th>9</th>\n",
              "      <th>...</th>\n",
              "      <th>81</th>\n",
              "      <th>82</th>\n",
              "      <th>83</th>\n",
              "      <th>84</th>\n",
              "      <th>85</th>\n",
              "      <th>86</th>\n",
              "      <th>87</th>\n",
              "      <th>88</th>\n",
              "      <th>89</th>\n",
              "      <th>90</th>\n",
              "    </tr>\n",
              "  </thead>\n",
              "  <tbody>\n",
              "    <tr>\n",
              "      <th>0</th>\n",
              "      <td>2001</td>\n",
              "      <td>49.94357</td>\n",
              "      <td>21.47114</td>\n",
              "      <td>73.07750</td>\n",
              "      <td>8.74861</td>\n",
              "      <td>-17.40628</td>\n",
              "      <td>-13.09905</td>\n",
              "      <td>-25.01202</td>\n",
              "      <td>-12.23257</td>\n",
              "      <td>7.83089</td>\n",
              "      <td>...</td>\n",
              "      <td>13.01620</td>\n",
              "      <td>-54.40548</td>\n",
              "      <td>58.99367</td>\n",
              "      <td>15.37344</td>\n",
              "      <td>1.11144</td>\n",
              "      <td>-23.08793</td>\n",
              "      <td>68.40795</td>\n",
              "      <td>-1.82223</td>\n",
              "      <td>-27.46348</td>\n",
              "      <td>2.26327</td>\n",
              "    </tr>\n",
              "    <tr>\n",
              "      <th>1</th>\n",
              "      <td>2001</td>\n",
              "      <td>48.73215</td>\n",
              "      <td>18.42930</td>\n",
              "      <td>70.32679</td>\n",
              "      <td>12.94636</td>\n",
              "      <td>-10.32437</td>\n",
              "      <td>-24.83777</td>\n",
              "      <td>8.76630</td>\n",
              "      <td>-0.92019</td>\n",
              "      <td>18.76548</td>\n",
              "      <td>...</td>\n",
              "      <td>5.66812</td>\n",
              "      <td>-19.68073</td>\n",
              "      <td>33.04964</td>\n",
              "      <td>42.87836</td>\n",
              "      <td>-9.90378</td>\n",
              "      <td>-32.22788</td>\n",
              "      <td>70.49388</td>\n",
              "      <td>12.04941</td>\n",
              "      <td>58.43453</td>\n",
              "      <td>26.92061</td>\n",
              "    </tr>\n",
              "    <tr>\n",
              "      <th>2</th>\n",
              "      <td>2001</td>\n",
              "      <td>50.95714</td>\n",
              "      <td>31.85602</td>\n",
              "      <td>55.81851</td>\n",
              "      <td>13.41693</td>\n",
              "      <td>-6.57898</td>\n",
              "      <td>-18.54940</td>\n",
              "      <td>-3.27872</td>\n",
              "      <td>-2.35035</td>\n",
              "      <td>16.07017</td>\n",
              "      <td>...</td>\n",
              "      <td>3.03800</td>\n",
              "      <td>26.05866</td>\n",
              "      <td>-50.92779</td>\n",
              "      <td>10.93792</td>\n",
              "      <td>-0.07568</td>\n",
              "      <td>43.20130</td>\n",
              "      <td>-115.00698</td>\n",
              "      <td>-0.05859</td>\n",
              "      <td>39.67068</td>\n",
              "      <td>-0.66345</td>\n",
              "    </tr>\n",
              "    <tr>\n",
              "      <th>3</th>\n",
              "      <td>2001</td>\n",
              "      <td>48.24750</td>\n",
              "      <td>-1.89837</td>\n",
              "      <td>36.29772</td>\n",
              "      <td>2.58776</td>\n",
              "      <td>0.97170</td>\n",
              "      <td>-26.21683</td>\n",
              "      <td>5.05097</td>\n",
              "      <td>-10.34124</td>\n",
              "      <td>3.55005</td>\n",
              "      <td>...</td>\n",
              "      <td>34.57337</td>\n",
              "      <td>-171.70734</td>\n",
              "      <td>-16.96705</td>\n",
              "      <td>-46.67617</td>\n",
              "      <td>-12.51516</td>\n",
              "      <td>82.58061</td>\n",
              "      <td>-72.08993</td>\n",
              "      <td>9.90558</td>\n",
              "      <td>199.62971</td>\n",
              "      <td>18.85382</td>\n",
              "    </tr>\n",
              "    <tr>\n",
              "      <th>4</th>\n",
              "      <td>2001</td>\n",
              "      <td>50.97020</td>\n",
              "      <td>42.20998</td>\n",
              "      <td>67.09964</td>\n",
              "      <td>8.46791</td>\n",
              "      <td>-15.85279</td>\n",
              "      <td>-16.81409</td>\n",
              "      <td>-12.48207</td>\n",
              "      <td>-9.37636</td>\n",
              "      <td>12.63699</td>\n",
              "      <td>...</td>\n",
              "      <td>9.92661</td>\n",
              "      <td>-55.95724</td>\n",
              "      <td>64.92712</td>\n",
              "      <td>-17.72522</td>\n",
              "      <td>-1.49237</td>\n",
              "      <td>-7.50035</td>\n",
              "      <td>51.76631</td>\n",
              "      <td>7.88713</td>\n",
              "      <td>55.66926</td>\n",
              "      <td>28.74903</td>\n",
              "    </tr>\n",
              "  </tbody>\n",
              "</table>\n",
              "<p>5 rows × 91 columns</p>\n",
              "</div>\n",
              "    <div class=\"colab-df-buttons\">\n",
              "\n",
              "  <div class=\"colab-df-container\">\n",
              "    <button class=\"colab-df-convert\" onclick=\"convertToInteractive('df-9d1c093a-0199-4dc4-8fc3-6ac91cf1612e')\"\n",
              "            title=\"Convert this dataframe to an interactive table.\"\n",
              "            style=\"display:none;\">\n",
              "\n",
              "  <svg xmlns=\"http://www.w3.org/2000/svg\" height=\"24px\" viewBox=\"0 -960 960 960\">\n",
              "    <path d=\"M120-120v-720h720v720H120Zm60-500h600v-160H180v160Zm220 220h160v-160H400v160Zm0 220h160v-160H400v160ZM180-400h160v-160H180v160Zm440 0h160v-160H620v160ZM180-180h160v-160H180v160Zm440 0h160v-160H620v160Z\"/>\n",
              "  </svg>\n",
              "    </button>\n",
              "\n",
              "  <style>\n",
              "    .colab-df-container {\n",
              "      display:flex;\n",
              "      gap: 12px;\n",
              "    }\n",
              "\n",
              "    .colab-df-convert {\n",
              "      background-color: #E8F0FE;\n",
              "      border: none;\n",
              "      border-radius: 50%;\n",
              "      cursor: pointer;\n",
              "      display: none;\n",
              "      fill: #1967D2;\n",
              "      height: 32px;\n",
              "      padding: 0 0 0 0;\n",
              "      width: 32px;\n",
              "    }\n",
              "\n",
              "    .colab-df-convert:hover {\n",
              "      background-color: #E2EBFA;\n",
              "      box-shadow: 0px 1px 2px rgba(60, 64, 67, 0.3), 0px 1px 3px 1px rgba(60, 64, 67, 0.15);\n",
              "      fill: #174EA6;\n",
              "    }\n",
              "\n",
              "    .colab-df-buttons div {\n",
              "      margin-bottom: 4px;\n",
              "    }\n",
              "\n",
              "    [theme=dark] .colab-df-convert {\n",
              "      background-color: #3B4455;\n",
              "      fill: #D2E3FC;\n",
              "    }\n",
              "\n",
              "    [theme=dark] .colab-df-convert:hover {\n",
              "      background-color: #434B5C;\n",
              "      box-shadow: 0px 1px 3px 1px rgba(0, 0, 0, 0.15);\n",
              "      filter: drop-shadow(0px 1px 2px rgba(0, 0, 0, 0.3));\n",
              "      fill: #FFFFFF;\n",
              "    }\n",
              "  </style>\n",
              "\n",
              "    <script>\n",
              "      const buttonEl =\n",
              "        document.querySelector('#df-9d1c093a-0199-4dc4-8fc3-6ac91cf1612e button.colab-df-convert');\n",
              "      buttonEl.style.display =\n",
              "        google.colab.kernel.accessAllowed ? 'block' : 'none';\n",
              "\n",
              "      async function convertToInteractive(key) {\n",
              "        const element = document.querySelector('#df-9d1c093a-0199-4dc4-8fc3-6ac91cf1612e');\n",
              "        const dataTable =\n",
              "          await google.colab.kernel.invokeFunction('convertToInteractive',\n",
              "                                                    [key], {});\n",
              "        if (!dataTable) return;\n",
              "\n",
              "        const docLinkHtml = 'Like what you see? Visit the ' +\n",
              "          '<a target=\"_blank\" href=https://colab.research.google.com/notebooks/data_table.ipynb>data table notebook</a>'\n",
              "          + ' to learn more about interactive tables.';\n",
              "        element.innerHTML = '';\n",
              "        dataTable['output_type'] = 'display_data';\n",
              "        await google.colab.output.renderOutput(dataTable, element);\n",
              "        const docLink = document.createElement('div');\n",
              "        docLink.innerHTML = docLinkHtml;\n",
              "        element.appendChild(docLink);\n",
              "      }\n",
              "    </script>\n",
              "  </div>\n",
              "\n",
              "\n",
              "<div id=\"df-b4085035-a7de-4810-936c-b726d3cc0038\">\n",
              "  <button class=\"colab-df-quickchart\" onclick=\"quickchart('df-b4085035-a7de-4810-936c-b726d3cc0038')\"\n",
              "            title=\"Suggest charts.\"\n",
              "            style=\"display:none;\">\n",
              "\n",
              "<svg xmlns=\"http://www.w3.org/2000/svg\" height=\"24px\"viewBox=\"0 0 24 24\"\n",
              "     width=\"24px\">\n",
              "    <g>\n",
              "        <path d=\"M19 3H5c-1.1 0-2 .9-2 2v14c0 1.1.9 2 2 2h14c1.1 0 2-.9 2-2V5c0-1.1-.9-2-2-2zM9 17H7v-7h2v7zm4 0h-2V7h2v10zm4 0h-2v-4h2v4z\"/>\n",
              "    </g>\n",
              "</svg>\n",
              "  </button>\n",
              "\n",
              "<style>\n",
              "  .colab-df-quickchart {\n",
              "      --bg-color: #E8F0FE;\n",
              "      --fill-color: #1967D2;\n",
              "      --hover-bg-color: #E2EBFA;\n",
              "      --hover-fill-color: #174EA6;\n",
              "      --disabled-fill-color: #AAA;\n",
              "      --disabled-bg-color: #DDD;\n",
              "  }\n",
              "\n",
              "  [theme=dark] .colab-df-quickchart {\n",
              "      --bg-color: #3B4455;\n",
              "      --fill-color: #D2E3FC;\n",
              "      --hover-bg-color: #434B5C;\n",
              "      --hover-fill-color: #FFFFFF;\n",
              "      --disabled-bg-color: #3B4455;\n",
              "      --disabled-fill-color: #666;\n",
              "  }\n",
              "\n",
              "  .colab-df-quickchart {\n",
              "    background-color: var(--bg-color);\n",
              "    border: none;\n",
              "    border-radius: 50%;\n",
              "    cursor: pointer;\n",
              "    display: none;\n",
              "    fill: var(--fill-color);\n",
              "    height: 32px;\n",
              "    padding: 0;\n",
              "    width: 32px;\n",
              "  }\n",
              "\n",
              "  .colab-df-quickchart:hover {\n",
              "    background-color: var(--hover-bg-color);\n",
              "    box-shadow: 0 1px 2px rgba(60, 64, 67, 0.3), 0 1px 3px 1px rgba(60, 64, 67, 0.15);\n",
              "    fill: var(--button-hover-fill-color);\n",
              "  }\n",
              "\n",
              "  .colab-df-quickchart-complete:disabled,\n",
              "  .colab-df-quickchart-complete:disabled:hover {\n",
              "    background-color: var(--disabled-bg-color);\n",
              "    fill: var(--disabled-fill-color);\n",
              "    box-shadow: none;\n",
              "  }\n",
              "\n",
              "  .colab-df-spinner {\n",
              "    border: 2px solid var(--fill-color);\n",
              "    border-color: transparent;\n",
              "    border-bottom-color: var(--fill-color);\n",
              "    animation:\n",
              "      spin 1s steps(1) infinite;\n",
              "  }\n",
              "\n",
              "  @keyframes spin {\n",
              "    0% {\n",
              "      border-color: transparent;\n",
              "      border-bottom-color: var(--fill-color);\n",
              "      border-left-color: var(--fill-color);\n",
              "    }\n",
              "    20% {\n",
              "      border-color: transparent;\n",
              "      border-left-color: var(--fill-color);\n",
              "      border-top-color: var(--fill-color);\n",
              "    }\n",
              "    30% {\n",
              "      border-color: transparent;\n",
              "      border-left-color: var(--fill-color);\n",
              "      border-top-color: var(--fill-color);\n",
              "      border-right-color: var(--fill-color);\n",
              "    }\n",
              "    40% {\n",
              "      border-color: transparent;\n",
              "      border-right-color: var(--fill-color);\n",
              "      border-top-color: var(--fill-color);\n",
              "    }\n",
              "    60% {\n",
              "      border-color: transparent;\n",
              "      border-right-color: var(--fill-color);\n",
              "    }\n",
              "    80% {\n",
              "      border-color: transparent;\n",
              "      border-right-color: var(--fill-color);\n",
              "      border-bottom-color: var(--fill-color);\n",
              "    }\n",
              "    90% {\n",
              "      border-color: transparent;\n",
              "      border-bottom-color: var(--fill-color);\n",
              "    }\n",
              "  }\n",
              "</style>\n",
              "\n",
              "  <script>\n",
              "    async function quickchart(key) {\n",
              "      const quickchartButtonEl =\n",
              "        document.querySelector('#' + key + ' button');\n",
              "      quickchartButtonEl.disabled = true;  // To prevent multiple clicks.\n",
              "      quickchartButtonEl.classList.add('colab-df-spinner');\n",
              "      try {\n",
              "        const charts = await google.colab.kernel.invokeFunction(\n",
              "            'suggestCharts', [key], {});\n",
              "      } catch (error) {\n",
              "        console.error('Error during call to suggestCharts:', error);\n",
              "      }\n",
              "      quickchartButtonEl.classList.remove('colab-df-spinner');\n",
              "      quickchartButtonEl.classList.add('colab-df-quickchart-complete');\n",
              "    }\n",
              "    (() => {\n",
              "      let quickchartButtonEl =\n",
              "        document.querySelector('#df-b4085035-a7de-4810-936c-b726d3cc0038 button');\n",
              "      quickchartButtonEl.style.display =\n",
              "        google.colab.kernel.accessAllowed ? 'block' : 'none';\n",
              "    })();\n",
              "  </script>\n",
              "</div>\n",
              "    </div>\n",
              "  </div>\n"
            ]
          },
          "metadata": {},
          "execution_count": 405
        }
      ],
      "source": [
        "df = pd.read_csv('data.txt.zip', header=None)\n",
        "df.head()"
      ]
    },
    {
      "cell_type": "markdown",
      "metadata": {
        "id": "N9a-eJUG35C3"
      },
      "source": [
        "Мы вывели кусок данных, чтобы понять, насколько они пригодны для работы без изменений. Здесь ясно, что сомнительно дальше с такими данными работать, потому что как минимум есть отрицательные значения, которые не отмасштабированы, кроме того еще сразу бросается в глаза совсем разная размерность, где-то видим реально большие числа, а где-то 0.075. Ясно, что будем скейлить."
      ]
    },
    {
      "cell_type": "code",
      "execution_count": null,
      "metadata": {
        "id": "n4wnRJT1778j"
      },
      "outputs": [],
      "source": [
        "X = df.iloc[:, 1:].values\n",
        "y = df.iloc[:, 0].values\n",
        "\n",
        "train_size = 463715\n",
        "X_train = X[:train_size, :]\n",
        "y_train = y[:train_size]\n",
        "X_test = X[train_size:, :]\n",
        "y_test = y[train_size:]"
      ]
    },
    {
      "cell_type": "markdown",
      "metadata": {
        "id": "_386JE_o5gOd"
      },
      "source": [
        "## Задание 0. (0 баллов, но при невыполнении максимум за все задание &mdash; 0 баллов)\n",
        "\n",
        "Мы будем использовать RMSE как метрику качества. Для самого первого бейзлайна обучите `Ridge` регрессию из `sklearn`. Кроме того, посчитайте качество при наилучшем константном прогнозе.\n",
        "\n",
        "Для выполнения данного задания (и всех последующих) предобработайте данные.\n",
        "\n",
        "1. Зафиксируйте random_seed везде где только возможно. Вам предоставлена функция для этого, однако вы можете дополнить ее своими дополнениями\n",
        "2. Обучите StandertScaler и предобработайте ваши данные. В следующих заданиях можете использовать другой scaler или вообще отказаться от него\n"
      ]
    },
    {
      "cell_type": "code",
      "execution_count": null,
      "metadata": {
        "id": "1kV-kCVs8Aju"
      },
      "outputs": [],
      "source": [
        "from sklearn.preprocessing import StandardScaler\n",
        "\n",
        "scaler = StandardScaler()"
      ]
    },
    {
      "cell_type": "code",
      "execution_count": null,
      "metadata": {
        "id": "lkfkXylb8U-O"
      },
      "outputs": [],
      "source": [
        "def set_random_seed(seed):\n",
        "    torch.backends.cudnn.deterministic = True\n",
        "    torch.manual_seed(seed)\n",
        "    torch.cuda.manual_seed(seed)\n",
        "    np.random.seed(seed)\n",
        "    random.seed(seed)\n",
        "    # Add smth here if you need..."
      ]
    },
    {
      "cell_type": "code",
      "execution_count": null,
      "metadata": {
        "id": "GKVVatBw8cH7"
      },
      "outputs": [],
      "source": [
        "set_random_seed(42)"
      ]
    },
    {
      "cell_type": "code",
      "source": [
        "X_train_scaled = scaler.fit_transform(X_train)\n",
        "X_test_scaled = scaler.transform(X_test)"
      ],
      "metadata": {
        "id": "ZOvgBJmAb1iI"
      },
      "execution_count": null,
      "outputs": []
    },
    {
      "cell_type": "code",
      "source": [
        "X_train_scaled.shape"
      ],
      "metadata": {
        "colab": {
          "base_uri": "https://localhost:8080/"
        },
        "id": "_LJWtOaKNKPN",
        "outputId": "eadea9ca-91d7-47b0-9056-570103c337c8"
      },
      "execution_count": null,
      "outputs": [
        {
          "output_type": "execute_result",
          "data": {
            "text/plain": [
              "(463715, 90)"
            ]
          },
          "metadata": {},
          "execution_count": 411
        }
      ]
    },
    {
      "cell_type": "code",
      "execution_count": null,
      "metadata": {
        "id": "uv7qthu935C4",
        "colab": {
          "base_uri": "https://localhost:8080/"
        },
        "outputId": "a4cad3d5-322d-45f0-cfbc-36c5ed49fe3e"
      },
      "outputs": [
        {
          "output_type": "execute_result",
          "data": {
            "text/plain": [
              "9.510160820470436"
            ]
          },
          "metadata": {},
          "execution_count": 412
        }
      ],
      "source": [
        "from sklearn.linear_model import Ridge\n",
        "from sklearn.metrics import mean_squared_error\n",
        "\n",
        "model = Ridge().fit(X_train_scaled, y_train)\n",
        "rmse_for_model = mean_squared_error(y_test, model.predict(X_test_scaled), squared=False)\n",
        "rmse_for_model"
      ]
    },
    {
      "cell_type": "markdown",
      "metadata": {
        "id": "HJKGuhFi35C4"
      },
      "source": [
        "Лучшая константа для RMSE это среднее, посчитаем значение метрики при нем"
      ]
    },
    {
      "cell_type": "code",
      "execution_count": null,
      "metadata": {
        "id": "kOcFuy1P35C4",
        "colab": {
          "base_uri": "https://localhost:8080/"
        },
        "outputId": "d85aea68-2627-443a-811f-1b154844f960"
      },
      "outputs": [
        {
          "output_type": "execute_result",
          "data": {
            "text/plain": [
              "10.85246390513634"
            ]
          },
          "metadata": {},
          "execution_count": 413
        }
      ],
      "source": [
        "best_rmse_metric = mean_squared_error(y_test, [y_train.mean()]*len(y_test), squared=False)\n",
        "best_rmse_metric"
      ]
    },
    {
      "cell_type": "markdown",
      "metadata": {
        "id": "BDHAnIkS8vNY"
      },
      "source": [
        "## Задание 1. (максимум 10 баллов)\n",
        "\n",
        "Закрепите свои знания о том, как pytorch работает с обратным распространением ошибки, проделав следующие шаги:\n",
        "\n",
        "1. Создайте модель линейной регрессии, которая будет состоять только из одного Linear слоя.\n",
        "2. Напишите цикл обучения вашей линейной регрессии. В нем реализуйте подсчет функции потерь, сделайте шаг градиентного спуска. Запрещено использовать готовые оптимизаторы и loss-функции из библиотеки pytorch. Для подсчета градиента воспользуйтесь методом backward.\n",
        "3. Запустите обучение на 10 эпохах, после каждой проверяйте значение целевой метрики на тестовой выборке.\n",
        "4. Выведите на экран графики метрики и значения функции потерь на тестовой и обучающей выборке.\n",
        "\n",
        "В данном задании нет цели побить какой-то порог по метрике. Ваша задача - убедиться в том, что ваш рукописный цикл обучения работает. Для ускорения вычислений и обучения модели можете брать только срез данных, а не весь датасет."
      ]
    },
    {
      "cell_type": "code",
      "source": [
        "class RandomDataset(torch.utils.data.Dataset):\n",
        "    def __init__(self, x, y):\n",
        "        self.x = x\n",
        "        self.y = y\n",
        "\n",
        "    def __len__(self):\n",
        "        return len(self.x)\n",
        "\n",
        "    def __getitem__(self, idx):\n",
        "        return {\n",
        "            \"sample\": torch.tensor(self.x[idx, :], dtype=torch.float),\n",
        "            \"target\": self.y[idx],\n",
        "        }"
      ],
      "metadata": {
        "id": "gf9KiMKi-Bip"
      },
      "execution_count": null,
      "outputs": []
    },
    {
      "cell_type": "code",
      "source": [
        "dataset = RandomDataset(X_train_scaled, y_train)\n",
        "val_dataset = RandomDataset(X_test_scaled, y_test)\n",
        "m_dataset = RandomDataset(X_test, y_test) # для подсчета метрики\n",
        "dataset.__getitem__(1)"
      ],
      "metadata": {
        "id": "cfGW0P-Ne_Rt",
        "colab": {
          "base_uri": "https://localhost:8080/"
        },
        "outputId": "d3ac1123-ee3a-419f-eb86-e2b1f2e752db"
      },
      "execution_count": null,
      "outputs": [
        {
          "output_type": "execute_result",
          "data": {
            "text/plain": [
              "{'sample': tensor([ 0.8795,  0.3326,  1.7490,  0.7233, -0.1668, -1.1897,  0.7648,  0.1097,\n",
              "          1.4227,  0.4169,  0.5407, -0.2645,  0.4823, -0.2168, -1.0777, -0.9649,\n",
              "         -0.2802, -0.8010,  0.4523, -0.4851, -0.3549, -0.3146, -0.7870,  0.1640,\n",
              "         -0.1941, -0.1517,  0.3837,  0.7470, -0.6792, -0.9754,  0.1215,  0.3056,\n",
              "          0.3043, -0.5369,  1.0486, -0.4250, -0.6037, -0.3512,  0.1951,  0.8708,\n",
              "         -0.2687,  1.4748,  0.4746, -0.1111, -0.5741, -0.3382, -0.4352, -0.0811,\n",
              "          1.0633,  0.1301,  0.2383, -0.3568,  0.8333, -0.5436, -0.5614,  0.2407,\n",
              "         -0.0789, -0.3246, -0.5018, -0.2616, -0.7942, -0.4036,  0.3477, -0.8767,\n",
              "          0.1950,  0.0916, -0.9167,  0.1230,  0.1378, -0.7991,  0.2179,  0.5459,\n",
              "          0.2509,  0.1246,  0.6099, -0.4856, -0.2412, -0.1186,  0.4098, -0.6921,\n",
              "         -0.3140,  0.3044, -0.0688,  0.0537, -0.6345, -0.4358,  0.5561,  0.5709,\n",
              "          0.2093,  1.1611]),\n",
              " 'target': 2001}"
            ]
          },
          "metadata": {},
          "execution_count": 415
        }
      ]
    },
    {
      "cell_type": "code",
      "source": [
        "dataloader = torch.utils.data.DataLoader(dataset, batch_size=128, shuffle=True)\n",
        "val_dataloader = torch.utils.data.DataLoader(val_dataset, batch_size=128, shuffle=True)\n",
        "m_dataloader = torch.utils.data.DataLoader(m_dataset, batch_size=128, shuffle=True) # для подсчета метрики"
      ],
      "metadata": {
        "id": "XgpJtBrahp1s"
      },
      "execution_count": null,
      "outputs": []
    },
    {
      "cell_type": "code",
      "source": [
        "batch = next(iter(dataloader))\n",
        "\n",
        "print(f\"Sample:\\n{batch['sample']}\")\n",
        "print(f\"Target:\\n{batch['target']}\")"
      ],
      "metadata": {
        "colab": {
          "base_uri": "https://localhost:8080/"
        },
        "id": "RDNDUzoEKseT",
        "outputId": "9219bf91-b37f-4d41-82b4-416465c592d1"
      },
      "execution_count": null,
      "outputs": [
        {
          "output_type": "stream",
          "name": "stdout",
          "text": [
            "Sample:\n",
            "tensor([[ 0.9958, -0.0788,  0.5411,  ..., -0.1618,  0.0327,  0.4560],\n",
            "        [-0.2273,  0.0297, -1.1221,  ...,  0.7229,  0.9211,  1.3257],\n",
            "        [-0.4348,  0.4998, -1.3742,  ..., -0.5135,  0.3598, -0.2195],\n",
            "        ...,\n",
            "        [ 0.3688, -0.1114, -0.3314,  ...,  0.6726,  0.5534,  0.9044],\n",
            "        [-0.5699,  0.2443, -1.3079,  ..., -1.0330,  0.2849, -0.0838],\n",
            "        [ 0.3915,  0.2275,  0.9386,  ...,  0.0245, -0.1247,  0.9805]])\n",
            "Target:\n",
            "tensor([1997, 2008, 2002, 1990, 1977, 2002, 1987, 1997, 2001, 1996, 2003, 2001,\n",
            "        2007, 1996, 2006, 2006, 2007, 2004, 2005, 2008, 1991, 2007, 2007, 2006,\n",
            "        1971, 2002, 2006, 2007, 1997, 2005, 2006, 2007, 2005, 2007, 2006, 2007,\n",
            "        1983, 1994, 2009, 2008, 1970, 1985, 2007, 2005, 2009, 2008, 1997, 2006,\n",
            "        2009, 2007, 2009, 1996, 1993, 2009, 1983, 2005, 1997, 1982, 2006, 1994,\n",
            "        1992, 2006, 2001, 1991, 1994, 1999, 2000, 2005, 2004, 2003, 1982, 2004,\n",
            "        1999, 2006, 2001, 1999, 1999, 2007, 2008, 2003, 2005, 2001, 1993, 2000,\n",
            "        1994, 2004, 1992, 2004, 2009, 2000, 2008, 1987, 1997, 2005, 2003, 2003,\n",
            "        2007, 1997, 1991, 2008, 2008, 2005, 2002, 2000, 2009, 2009, 1963, 2006,\n",
            "        2002, 1988, 1993, 2006, 2005, 1990, 1999, 2000, 2004, 1988, 1997, 2008,\n",
            "        2002, 1996, 1988, 1973, 2000, 2008, 1983, 1983])\n"
          ]
        }
      ]
    },
    {
      "cell_type": "code",
      "source": [
        "X_train_scaled.shape, y_train.shape\n"
      ],
      "metadata": {
        "colab": {
          "base_uri": "https://localhost:8080/"
        },
        "id": "yCloYv7yCPSn",
        "outputId": "4679eff0-21af-40e4-fd12-897c6ac35bfa"
      },
      "execution_count": null,
      "outputs": [
        {
          "output_type": "execute_result",
          "data": {
            "text/plain": [
              "((463715, 90), (463715,))"
            ]
          },
          "metadata": {},
          "execution_count": 418
        }
      ]
    },
    {
      "cell_type": "code",
      "source": [
        "model = nn.Sequential(nn.Linear(90, 1))"
      ],
      "metadata": {
        "id": "rTcNriTBjSlS"
      },
      "execution_count": null,
      "outputs": []
    },
    {
      "cell_type": "code",
      "source": [
        "!pip install wandb --upgrade --quiet"
      ],
      "metadata": {
        "id": "wXJaJzD7o7Yp"
      },
      "execution_count": null,
      "outputs": []
    },
    {
      "cell_type": "code",
      "source": [
        "import wandb"
      ],
      "metadata": {
        "id": "-1q_W5hwoM46"
      },
      "execution_count": null,
      "outputs": []
    },
    {
      "cell_type": "code",
      "source": [
        "# логинимся в своего пользователя (предварительно нужно ввести ключ из настроек с wandb.ai через консоль)\n",
        "!wandb login\n",
        "#wandb.login()"
      ],
      "metadata": {
        "colab": {
          "base_uri": "https://localhost:8080/"
        },
        "id": "FNny46n8oNKx",
        "outputId": "5518c333-912d-4720-949f-70ad5ae86c33"
      },
      "execution_count": null,
      "outputs": [
        {
          "output_type": "stream",
          "name": "stdout",
          "text": [
            "\u001b[34m\u001b[1mwandb\u001b[0m: Currently logged in as: \u001b[33miamtanyaaa\u001b[0m. Use \u001b[1m`wandb login --relogin`\u001b[0m to force relogin\n"
          ]
        }
      ]
    },
    {
      "cell_type": "code",
      "source": [
        "# инициализируем проект\n",
        "wandb.init(project=\"pytorch-demo\")\n",
        "# сохраняем параметры сетки в wandb + просим следить за градиентами сетки\n",
        "wandb.watch(model);"
      ],
      "metadata": {
        "colab": {
          "base_uri": "https://localhost:8080/",
          "height": 452,
          "referenced_widgets": [
            "d34112b57f2f43dc99a99f9718a4a323"
          ]
        },
        "id": "1kSlEMzppFuo",
        "outputId": "bfedfbfe-f260-41ea-b627-4f4b56b16a71"
      },
      "execution_count": null,
      "outputs": [
        {
          "output_type": "display_data",
          "data": {
            "text/plain": [
              "<IPython.core.display.HTML object>"
            ],
            "text/html": [
              "Finishing last run (ID:vl2ya4q6) before initializing another..."
            ]
          },
          "metadata": {}
        },
        {
          "output_type": "display_data",
          "data": {
            "text/plain": [
              "<IPython.core.display.HTML object>"
            ],
            "text/html": [
              "Waiting for W&B process to finish... <strong style=\"color:green\">(success).</strong>"
            ]
          },
          "metadata": {}
        },
        {
          "output_type": "display_data",
          "data": {
            "text/plain": [
              "VBox(children=(Label(value='0.001 MB of 0.001 MB uploaded (0.000 MB deduped)\\r'), FloatProgress(value=1.0, max…"
            ],
            "application/vnd.jupyter.widget-view+json": {
              "version_major": 2,
              "version_minor": 0,
              "model_id": "d34112b57f2f43dc99a99f9718a4a323"
            }
          },
          "metadata": {}
        },
        {
          "output_type": "display_data",
          "data": {
            "text/plain": [
              "<IPython.core.display.HTML object>"
            ],
            "text/html": [
              "<style>\n",
              "    table.wandb td:nth-child(1) { padding: 0 10px; text-align: left ; width: auto;} td:nth-child(2) {text-align: left ; width: 100%}\n",
              "    .wandb-row { display: flex; flex-direction: row; flex-wrap: wrap; justify-content: flex-start; width: 100% }\n",
              "    .wandb-col { display: flex; flex-direction: column; flex-basis: 100%; flex: 1; padding: 10px; }\n",
              "    </style>\n",
              "<div class=\"wandb-row\"><div class=\"wandb-col\"><h3>Run history:</h3><br/><table class=\"wandb\"><tr><td>mean train loss</td><td>█▃▁▁▁▁▁▁▁▁</td></tr><tr><td>mean val loss</td><td>█▃▁▁▁▁▁▁▁▁</td></tr><tr><td>metrics</td><td>█▄▃▂▁▁▁▁▁▁</td></tr></table><br/></div><div class=\"wandb-col\"><h3>Run summary:</h3><br/><table class=\"wandb\"><tr><td>mean train loss</td><td>124.23293</td></tr><tr><td>mean val loss</td><td>120.06116</td></tr><tr><td>metrics</td><td>10.91248</td></tr></table><br/></div></div>"
            ]
          },
          "metadata": {}
        },
        {
          "output_type": "display_data",
          "data": {
            "text/plain": [
              "<IPython.core.display.HTML object>"
            ],
            "text/html": [
              " View run <strong style=\"color:#cdcd00\">hearty-totem-13</strong> at: <a href='https://wandb.ai/iamtanyaaa/pytorch-demo/runs/vl2ya4q6' target=\"_blank\">https://wandb.ai/iamtanyaaa/pytorch-demo/runs/vl2ya4q6</a><br/>Synced 5 W&B file(s), 0 media file(s), 0 artifact file(s) and 0 other file(s)"
            ]
          },
          "metadata": {}
        },
        {
          "output_type": "display_data",
          "data": {
            "text/plain": [
              "<IPython.core.display.HTML object>"
            ],
            "text/html": [
              "Find logs at: <code>./wandb/run-20231020_164839-vl2ya4q6/logs</code>"
            ]
          },
          "metadata": {}
        },
        {
          "output_type": "display_data",
          "data": {
            "text/plain": [
              "<IPython.core.display.HTML object>"
            ],
            "text/html": [
              "Successfully finished last run (ID:vl2ya4q6). Initializing new run:<br/>"
            ]
          },
          "metadata": {}
        },
        {
          "output_type": "display_data",
          "data": {
            "text/plain": [
              "<IPython.core.display.HTML object>"
            ],
            "text/html": [
              "Tracking run with wandb version 0.15.12"
            ]
          },
          "metadata": {}
        },
        {
          "output_type": "display_data",
          "data": {
            "text/plain": [
              "<IPython.core.display.HTML object>"
            ],
            "text/html": [
              "Run data is saved locally in <code>/content/wandb/run-20231020_185224-z65xnie9</code>"
            ]
          },
          "metadata": {}
        },
        {
          "output_type": "display_data",
          "data": {
            "text/plain": [
              "<IPython.core.display.HTML object>"
            ],
            "text/html": [
              "Syncing run <strong><a href='https://wandb.ai/iamtanyaaa/pytorch-demo/runs/z65xnie9' target=\"_blank\">fancy-wind-14</a></strong> to <a href='https://wandb.ai/iamtanyaaa/pytorch-demo' target=\"_blank\">Weights & Biases</a> (<a href='https://wandb.me/run' target=\"_blank\">docs</a>)<br/>"
            ]
          },
          "metadata": {}
        },
        {
          "output_type": "display_data",
          "data": {
            "text/plain": [
              "<IPython.core.display.HTML object>"
            ],
            "text/html": [
              " View project at <a href='https://wandb.ai/iamtanyaaa/pytorch-demo' target=\"_blank\">https://wandb.ai/iamtanyaaa/pytorch-demo</a>"
            ]
          },
          "metadata": {}
        },
        {
          "output_type": "display_data",
          "data": {
            "text/plain": [
              "<IPython.core.display.HTML object>"
            ],
            "text/html": [
              " View run at <a href='https://wandb.ai/iamtanyaaa/pytorch-demo/runs/z65xnie9' target=\"_blank\">https://wandb.ai/iamtanyaaa/pytorch-demo/runs/z65xnie9</a>"
            ]
          },
          "metadata": {}
        }
      ]
    },
    {
      "cell_type": "code",
      "source": [
        "if torch.cuda.is_available():\n",
        "    device = torch.device('cuda')\n",
        "else:\n",
        "    device = torch.device('cpu')"
      ],
      "metadata": {
        "id": "I5Gnnbr1r6n3"
      },
      "execution_count": null,
      "outputs": []
    },
    {
      "cell_type": "code",
      "source": [
        "model.to(device)"
      ],
      "metadata": {
        "colab": {
          "base_uri": "https://localhost:8080/"
        },
        "id": "5MpwXmumsP1a",
        "outputId": "34ae44d0-d2fa-46c5-c37e-c72a1351ba31"
      },
      "execution_count": null,
      "outputs": [
        {
          "output_type": "execute_result",
          "data": {
            "text/plain": [
              "Sequential(\n",
              "  (0): Linear(in_features=90, out_features=1, bias=True)\n",
              ")"
            ]
          },
          "metadata": {},
          "execution_count": 425
        }
      ]
    },
    {
      "cell_type": "code",
      "source": [
        "def calc_rmse(output, target):\n",
        "    return torch.sqrt(calc_mse(output, target))\n",
        "\n",
        "def calc_mse(output, target):\n",
        "    loss = torch.mean((output - target)**2)\n",
        "    return loss"
      ],
      "metadata": {
        "id": "qkJv1dC3cBO3"
      },
      "execution_count": null,
      "outputs": []
    },
    {
      "cell_type": "code",
      "source": [
        "final_train = []\n",
        "final_val = []\n",
        "final_metrics = []\n",
        "\n",
        "for epoch in range(10):\n",
        "    train_loss = []\n",
        "    for i, batch in enumerate(dataloader):\n",
        "        x_train = batch['sample']\n",
        "        y_train = batch['target']\n",
        "        y_pred = model(x_train.to(device))  # делаем предсказания\n",
        "        loss = calc_mse(y_pred, y_train)  # считаем лосс\n",
        "        train_loss.append(loss.cpu().detach().numpy())\n",
        "        loss.backward()  # считаем градиенты обратным проходом\n",
        "        with torch.no_grad():\n",
        "            for p in model.parameters():\n",
        "                new_val = p - 0.0001 * p.grad # обновляем параметры сети\n",
        "                p.copy_(new_val)\n",
        "                p.grad.zero_()\n",
        "    val_loss = []\n",
        "    metrics = []\n",
        "    with torch.no_grad():  # на валидации запрещаем фреймворку считать градиенты по параметрам\n",
        "        for j, val_batch in enumerate(val_dataloader):\n",
        "            x_val, y_val = val_batch['sample'], val_batch['target']\n",
        "            y_pred = model(x_val.to(device))  # делаем предсказания\n",
        "            loss2 = calc_mse(y_pred, y_val.to(device))  # считаем лосс\n",
        "            val_loss.append(loss2.cpu().numpy())  # добавляем в массив\n",
        "\n",
        "        for k, m_batch in enumerate(m_dataloader):\n",
        "            x_m, y_m = m_batch['sample'], m_batch['target']\n",
        "            y_pred = model(x_val.to(device))  # делаем предсказания\n",
        "            metric = calc_rmse(y_pred, y_m.to(device))  # считаем лосс\n",
        "            metrics.append(metric.cpu().numpy())\n",
        "        # скидываем метрики на wandb и автоматом смотрим на графики\n",
        "        wandb.log(\n",
        "            {\n",
        "                \"mean val loss\": np.mean(val_loss),\n",
        "                \"mean train loss\": np.mean(train_loss),\n",
        "                \"metrics\": np.mean(metrics)\n",
        "            }\n",
        "        )\n",
        "        final_train.append(np.mean(train_loss))\n",
        "        final_val.append(np.mean(val_loss))\n",
        "        final_metrics.append(np.mean(metrics))\n",
        "\n",
        "        # печатаем метрики\n",
        "        print(\n",
        "            f\"Epoch: {epoch}, train loss: {np.mean(train_loss)}, val loss: {np.mean(val_loss)}, metrics: {np.mean(metrics)}\"\n",
        "        )\n"
      ],
      "metadata": {
        "id": "6btZ0udMsP75",
        "colab": {
          "base_uri": "https://localhost:8080/"
        },
        "outputId": "0f72e925-9a53-4a9b-a023-69421e642e1e"
      },
      "execution_count": null,
      "outputs": [
        {
          "output_type": "stream",
          "name": "stdout",
          "text": [
            "Epoch: 0, train loss: 2109551.75, val loss: 937853.4375, metrics: 968.5194702148438\n",
            "Epoch: 1, train loss: 495218.25, val loss: 220258.890625, metrics: 469.581298828125\n",
            "Epoch: 2, train loss: 116320.2109375, val loss: 51800.98828125, metrics: 227.66043090820312\n",
            "Epoch: 3, train loss: 27393.240234375, val loss: 12262.58203125, metrics: 110.71665954589844\n",
            "Epoch: 4, train loss: 6521.16357421875, val loss: 2974.72802734375, metrics: 54.5850944519043\n",
            "Epoch: 5, train loss: 1622.1746826171875, val loss: 791.277099609375, metrics: 28.15647315979004\n",
            "Epoch: 6, train loss: 472.2751770019531, val loss: 277.202880859375, metrics: 16.67489242553711\n",
            "Epoch: 7, train loss: 202.43959045410156, val loss: 155.7773895263672, metrics: 12.482385635375977\n",
            "Epoch: 8, train loss: 139.1118621826172, val loss: 127.029296875, metrics: 11.231048583984375\n",
            "Epoch: 9, train loss: 124.23292541503906, val loss: 120.06116485595703, metrics: 10.912481307983398\n"
          ]
        }
      ]
    },
    {
      "cell_type": "markdown",
      "source": [
        "https://discuss.pytorch.org/t/updatation-of-parameters-without-using-optimizer-step/34244/4\n",
        "Здесь подсмотрела код для того чтобы обновлять веса без встроенного оптимайзера."
      ],
      "metadata": {
        "id": "C_Nbl79GB5_a"
      }
    },
    {
      "cell_type": "code",
      "source": [
        "\n",
        "plt.xlabel('epoch')\n",
        "plt.ylabel('loss')\n",
        "plt.plot(final_train, label='train loss')\n",
        "plt.plot(final_val, label='test loss')\n",
        "plt.legend()\n",
        "plt.show()"
      ],
      "metadata": {
        "colab": {
          "base_uri": "https://localhost:8080/",
          "height": 465
        },
        "id": "zLbqb0d3B2rm",
        "outputId": "5f92a361-3a8d-437a-920f-989501a55988"
      },
      "execution_count": null,
      "outputs": [
        {
          "output_type": "display_data",
          "data": {
            "text/plain": [
              "<Figure size 640x480 with 1 Axes>"
            ],
            "image/png": "[encoded data removed]"
          },
          "metadata": {}
        }
      ]
    },
    {
      "cell_type": "code",
      "source": [
        "plt.xlabel('epoch')\n",
        "plt.ylabel('rmse')\n",
        "plt.title('RMSE')\n",
        "plt.plot(final_metrics)\n",
        "plt.show()"
      ],
      "metadata": {
        "colab": {
          "base_uri": "https://localhost:8080/",
          "height": 472
        },
        "id": "lS44tMhRb_5u",
        "outputId": "0e8d587b-67c1-40b1-9923-7c74dc82afde"
      },
      "execution_count": null,
      "outputs": [
        {
          "output_type": "display_data",
          "data": {
            "text/plain": [
              "<Figure size 640x480 with 1 Axes>"
            ],
            "image/png": "[encoded data removed]"
          },
          "metadata": {}
        }
      ]
    },
    {
      "cell_type": "markdown",
      "metadata": {
        "id": "_6ilBKYt6OdD"
      },
      "source": [
        "## Задание 2. (максимум 10 баллов)\n",
        "\n",
        "Реализуйте обучение и тестирование нейронной сети для предоставленного вам набора данных. Соотношение между полученным значением метрики на тестовой выборке и баллами за задание следующее:\n",
        "\n",
        "- $\\text{RMSE} \\le 9.00 $ &mdash; 4 балла\n",
        "- $\\text{RMSE} \\le 8.90 $ &mdash; 6 баллов\n",
        "- $\\text{RMSE} \\le 8.80 $ &mdash; 8 баллов\n",
        "- $\\text{RMSE} \\le 8.75 $ &mdash; 10 баллов\n",
        "\n",
        "Есть несколько правил, которых вам нужно придерживаться:\n",
        "\n",
        "- Весь пайплайн обучения должен быть написан на PyTorch. При этом вы можете пользоваться другими библиотеками (`numpy`, `sklearn` и пр.), но только для обработки данных. То есть как угодно трансформировать данные и считать метрики с помощью этих библиотек можно, а импортировать модели из `sklearn` и выбивать с их помощью требуемое качество &mdash; нельзя. Также нельзя пользоваться библиотеками, для которых сам PyTorch является зависимостью.\n",
        "\n",
        "- Мы никак не ограничиваем ваш выбор архитектуры модели, но скорее всего вам будет достаточно полносвязной нейронной сети.\n",
        "\n",
        "- Для обучения запрещается использовать какие-либо иные данные, кроме обучающей выборки.\n",
        "\n",
        "- Ансамблирование моделей запрещено.\n",
        "\n",
        "### Полезные советы:\n",
        "\n",
        "- Очень вряд ли, что у вас с первого раза получится выбить качество на 10 баллов, поэтому пробуйте разные архитектуры, оптимизаторы и значения гиперпараметров. В идеале при запуске каждого нового эксперимента вы должны менять что-то одно, чтобы точно знать, как этот фактор влияет на качество.\n",
        "\n",
        "- Не забудьте, что для улучшения качества модели вам поможет **нормировка таргета**.\n",
        "\n",
        "- Тот факт, что мы занимаемся глубинным обучением, не означает, что стоит забывать про приемы, использующиеся в классическом машинном обучении. Так что обязательно проводите исследовательский анализ данных, отрисовывайте нужные графики и не забывайте про масштабирование и подбор гиперпараметров.\n",
        "\n",
        "- Вы наверняка столкнетесь с тем, что ваша нейронная сеть будет сильно переобучаться. Для нейросетей существуют специальные методы регуляризации, например, dropout ([статья](https://jmlr.org/papers/volume15/srivastava14a/srivastava14a.pdf)) и weight decay ([блогпост](https://towardsdatascience.com/weight-decay-l2-regularization-90a9e17713cd)). Они, разумеется, реализованы в PyTorch. Попробуйте поэкспериментировать с ними.\n",
        "\n",
        "- Если вы чего-то не знаете, не гнушайтесь гуглить. В интернете очень много полезной информации, туториалов и советов по глубинному обучению в целом и по PyTorch в частности. Но не забывайте, что за скатанный код без ссылки на источник придется ответить по всей строгости!\n",
        "\n",
        "- Если вы сразу реализуете обучение на GPU, то у вас будет больше времени на эксперименты, так как любые вычисления будут работать быстрее. Google Colab предоставляет несколько GPU-часов (обычно около 8-10) в сутки бесплатно.\n",
        "\n",
        "- Чтобы отладить код, можете обучаться на небольшой части данных или даже на одном батче. Если лосс на обучающей выборке не падает, то что-то точно идет не так!\n",
        "\n",
        "- Пользуйтесь утилитами, которые вам предоставляет PyTorch (например, Dataset и Dataloader). Их специально разработали для упрощения разработки пайплайна обучения.\n",
        "\n",
        "- Скорее всего вы захотите отслеживать прогресс обучения. Для создания прогресс-баров есть удобная библиотека `tqdm`.\n",
        "\n",
        "- Быть может, вы захотите, чтобы графики рисовались прямо во время обучения. Можете воспользоваться функцией [clear_output](http://ipython.org/ipython-doc/dev/api/generated/IPython.display.html#IPython.display.clear_output), чтобы удалять старый график и рисовать новый на его месте.\n",
        "\n",
        "**ОБЯЗАТЕЛЬНО** рисуйте графики зависимости лосса/метрики на обучающей и тестовой выборках в зависимости от времени обучения. Если обучение занимает относительно небольшое число эпох, то лучше рисовать зависимость от номера шага обучения, если же эпох больше, то рисуйте зависимость по эпохам. Если проверяющий не увидит такого графика для вашей лучшей модели, то он в праве снизить баллы за задание.\n",
        "\n",
        "**ВАЖНО!** Ваше решение должно быть воспроизводимым. Если это не так, то проверяющий имеет право снизить баллы за задание. Чтобы зафиксировать random seed, воспользуйтесь функцией из предыдущего задания.\n",
        "\n"
      ]
    },
    {
      "cell_type": "markdown",
      "metadata": {
        "id": "TZW0gMe3vT8u"
      },
      "source": [
        "Вы можете придерживаться любой адекватной струкуры кода, но мы советуем воспользоваться сигнатурами функций, которые приведены ниже. Лучше всего, если вы проверите ваши предсказания ассертом: так вы убережете себя от разных косяков, например, что вектор предсказаний состоит из всего одного числа. В любом случае, внимательно следите за тем, для каких тензоров вы считаете метрику RMSE. При случайном или намеренном введении в заблуждение проверяющие очень сильно разозлятся."
      ]
    },
    {
      "cell_type": "code",
      "source": [
        "# происходит путаница с названиями, поэтому лучше еще раз здесь продублирую\n",
        "\n",
        "X = df.iloc[:, 1:].values\n",
        "y = df.iloc[:, 0].values\n",
        "\n",
        "train_size = 463715\n",
        "X_train = X[:train_size, :]\n",
        "y_train = y[:train_size]\n",
        "X_test = X[train_size:, :]\n",
        "y_test = y[train_size:]"
      ],
      "metadata": {
        "id": "O3HuPgM1ROYa"
      },
      "execution_count": null,
      "outputs": []
    },
    {
      "cell_type": "code",
      "source": [
        "X_train_scaled = scaler.fit_transform(X_train)\n",
        "X_test_scaled = scaler.transform(X_test)"
      ],
      "metadata": {
        "id": "k4Nl1Qy7ZXQI"
      },
      "execution_count": null,
      "outputs": []
    },
    {
      "cell_type": "code",
      "source": [
        "class My_Dataset(torch.utils.data.Dataset): # код взят с семинара\n",
        "    def __init__(self, x, y):\n",
        "        self.x = x\n",
        "        self.y = y\n",
        "\n",
        "    def __len__(self):\n",
        "        return len(self.x)\n",
        "\n",
        "    def __getitem__(self, idx):\n",
        "        return {\n",
        "            \"sample\": torch.tensor(self.x[idx, :], dtype=torch.float),\n",
        "            \"target\": self.y[idx],\n",
        "        }"
      ],
      "metadata": {
        "id": "9PELBdjgGbha"
      },
      "execution_count": null,
      "outputs": []
    },
    {
      "cell_type": "code",
      "execution_count": null,
      "metadata": {
        "id": "Bw6FWo39Xu-F"
      },
      "outputs": [],
      "source": [
        "train_set = My_Dataset(X_train_scaled, y_train)\n",
        "train_loader = torch.utils.data.DataLoader(train_set, batch_size=64, shuffle=True)\n",
        "\n",
        "test_set = My_Dataset(X_test_scaled, y_test)\n",
        "test_loader = torch.utils.data.DataLoader(test_set, batch_size=64, shuffle=False)\n",
        "\n",
        "# пока что возьму простую модель из семинара с двумя линейными слоями а функцией активации ReLU\n",
        "\n",
        "model = nn.Sequential(\n",
        "      nn.Linear(X_train.shape[1], 45),\n",
        "      nn.ReLU(),\n",
        "      nn.Linear(45, 1)\n",
        "    ).to(device)\n",
        "optimizer = torch.optim.SGD(model.parameters(), lr=0.0001)\n",
        "criterion = torch.nn.MSELoss()"
      ]
    },
    {
      "cell_type": "code",
      "execution_count": null,
      "metadata": {
        "id": "b8Oq3-vyXTIS"
      },
      "outputs": [],
      "source": [
        "def train(model, optimizer, criterion, train_loader, test_loader):\n",
        "    \"\"\"\n",
        "    params:\n",
        "        model - torch.nn.Module to be fitted\n",
        "        optimizer - model optimizer\n",
        "        criterion - loss function from torch.nn\n",
        "        train_loader - torch.utils.data.Dataloader with train set\n",
        "        test_loader - torch.utils.data.Dataloader with test set\n",
        "                      (if you wish to validate during training)\n",
        "    \"\"\"\n",
        "    train_final = []\n",
        "    for epoch in range(10):\n",
        "        train_loss = []\n",
        "        for i, batch in enumerate(train_loader):\n",
        "            x_train, y_train = batch['sample'], batch['target'].to(torch.float)\n",
        "            y_pred = model(x_train.to(device))\n",
        "            loss = criterion(y_pred, y_train.to(device))\n",
        "            train_loss.append(loss.cpu().detach().numpy())\n",
        "            loss.backward()\n",
        "            optimizer.step()\n",
        "            optimizer.zero_grad()\n",
        "        print(f\"Epoch: {epoch}, train loss: {np.mean(train_loss)}\")\n",
        "        train_final.append(np.mean(train_loss))\n",
        "    return train_final\n",
        "\n",
        "def test(model, criterion, test_loader):\n",
        "    \"\"\"\n",
        "    params:\n",
        "        model - torch.nn.Module to be evaluated on test set\n",
        "        criterion - loss function from torch.nn\n",
        "        test_loader - torch.utils.data.Dataloader with test set\n",
        "    ----------\n",
        "    returns:\n",
        "        predicts - torch.tensor with shape (len(test_loader.dataset), ),\n",
        "                   which contains predictions for test objects\n",
        "    \"\"\"\n",
        "    with torch.no_grad():\n",
        "        test_loss = []\n",
        "        for j, val_batch in enumerate(test_loader):\n",
        "            x_val, y_val = val_batch['sample'], val_batch['target']\n",
        "            y_pred = model(x_val.to(device))\n",
        "            loss = torch.sqrt(criterion(y_pred, y_val.to(device)))\n",
        "            test_loss.append(loss.cpu().numpy())\n",
        "        print(f'rmse: {np.mean(test_loss)}')\n",
        "    return np.mean(test_loss)\n",
        "    # так как мы считаем лосс на батче, то и предсказания у нас будут размера батча, поэтому не будем сравнивать размер того, что выдает нам функция test() с размером исходной тестовой выборки. Лучше посмотрим на качество.\n",
        "\n"
      ]
    },
    {
      "cell_type": "code",
      "source": [
        "final_train = train(model, optimizer, criterion, train_loader, test_loader)"
      ],
      "metadata": {
        "colab": {
          "base_uri": "https://localhost:8080/"
        },
        "id": "JOhL8CoWXeVH",
        "outputId": "48468dc4-e3b5-435b-a625-09ce6952f30d"
      },
      "execution_count": null,
      "outputs": [
        {
          "output_type": "stream",
          "name": "stderr",
          "text": [
            "/usr/local/lib/python3.10/dist-packages/torch/nn/modules/loss.py:535: UserWarning: Using a target size (torch.Size([64])) that is different to the input size (torch.Size([64, 1])). This will likely lead to incorrect results due to broadcasting. Please ensure they have the same size.\n",
            "  return F.mse_loss(input, target, reduction=self.reduction)\n",
            "/usr/local/lib/python3.10/dist-packages/torch/nn/modules/loss.py:535: UserWarning: Using a target size (torch.Size([35])) that is different to the input size (torch.Size([35, 1])). This will likely lead to incorrect results due to broadcasting. Please ensure they have the same size.\n",
            "  return F.mse_loss(input, target, reduction=self.reduction)\n"
          ]
        },
        {
          "output_type": "stream",
          "name": "stdout",
          "text": [
            "Epoch: 0, train loss: 22582.171875\n",
            "Epoch: 1, train loss: 1764.928466796875\n",
            "Epoch: 2, train loss: 887.1199340820312\n",
            "Epoch: 3, train loss: 414.8829040527344\n",
            "Epoch: 4, train loss: 310.7047424316406\n",
            "Epoch: 5, train loss: 212.1833953857422\n",
            "Epoch: 6, train loss: 213.10877990722656\n",
            "Epoch: 7, train loss: 202.93165588378906\n",
            "Epoch: 8, train loss: 198.88858032226562\n",
            "Epoch: 9, train loss: 175.8437042236328\n"
          ]
        }
      ]
    },
    {
      "cell_type": "code",
      "source": [
        "plt.title('Loss на тренировочной выборке')\n",
        "plt.xlabel('epoch')\n",
        "plt.ylabel('loss')\n",
        "plt.plot(final_train)\n",
        "plt.show()"
      ],
      "metadata": {
        "colab": {
          "base_uri": "https://localhost:8080/",
          "height": 472
        },
        "id": "ozSSariHSrYM",
        "outputId": "22ec98fc-5aab-4734-c78a-064f39dc3c43"
      },
      "execution_count": null,
      "outputs": [
        {
          "output_type": "display_data",
          "data": {
            "text/plain": [
              "<Figure size 640x480 with 1 Axes>"
            ],
            "image/png": "[encoded data removed]"
          },
          "metadata": {}
        }
      ]
    },
    {
      "cell_type": "code",
      "source": [
        "test(model, criterion, test_loader)"
      ],
      "metadata": {
        "colab": {
          "base_uri": "https://localhost:8080/"
        },
        "outputId": "dbeb0417-86ee-44e0-ae39-44576d5d655b",
        "id": "66q_Q0HsYATy"
      },
      "execution_count": null,
      "outputs": [
        {
          "output_type": "stream",
          "name": "stdout",
          "text": [
            "rmse: 10.945951461791992\n"
          ]
        },
        {
          "output_type": "stream",
          "name": "stderr",
          "text": [
            "/usr/local/lib/python3.10/dist-packages/torch/nn/modules/loss.py:535: UserWarning: Using a target size (torch.Size([46])) that is different to the input size (torch.Size([46, 1])). This will likely lead to incorrect results due to broadcasting. Please ensure they have the same size.\n",
            "  return F.mse_loss(input, target, reduction=self.reduction)\n"
          ]
        },
        {
          "output_type": "execute_result",
          "data": {
            "text/plain": [
              "10.945951"
            ]
          },
          "metadata": {},
          "execution_count": 437
        }
      ]
    },
    {
      "cell_type": "markdown",
      "source": [
        "Не самая лучшая архитектура. Качество ниже, чем в предыдущем задании с одним линейный слоем. Попробуем подобрать гиперпараметр lr."
      ],
      "metadata": {
        "id": "of-_Qm90aDZE"
      }
    },
    {
      "cell_type": "code",
      "source": [
        "losses = []\n",
        "print(losses)\n",
        "for step in [0.000001, 0.00001, 0.0001]:\n",
        "    train_set = My_Dataset(X_train_scaled, y_train)\n",
        "    train_loader = torch.utils.data.DataLoader(train_set, batch_size=64, shuffle=True)\n",
        "\n",
        "    test_set = My_Dataset(X_test_scaled, y_test)\n",
        "    test_loader = torch.utils.data.DataLoader(test_set, batch_size=64, shuffle=False)\n",
        "\n",
        "    model = nn.Sequential(\n",
        "          nn.Linear(X_train.shape[1], 45),\n",
        "          nn.ReLU(),\n",
        "          nn.Linear(45, 1)\n",
        "          ).to(device)\n",
        "    optimizer = torch.optim.SGD(model.parameters(), lr=step)\n",
        "    criterion = torch.nn.MSELoss()\n",
        "    train(model, optimizer, criterion, train_loader, test_loader)\n",
        "    losses.append(test(model, criterion, test_loader))"
      ],
      "metadata": {
        "colab": {
          "base_uri": "https://localhost:8080/"
        },
        "id": "MV4TxrTOuMF4",
        "outputId": "dcce5a7b-b2bd-4f11-eb65-227363df5df3"
      },
      "execution_count": null,
      "outputs": [
        {
          "output_type": "stream",
          "name": "stdout",
          "text": [
            "[]\n",
            "Epoch: 0, train loss: 527038.8125\n",
            "Epoch: 1, train loss: 1290.17578125\n",
            "Epoch: 2, train loss: 361.7490234375\n",
            "Epoch: 3, train loss: 221.7011260986328\n",
            "Epoch: 4, train loss: 176.96949768066406\n",
            "Epoch: 5, train loss: 157.5982666015625\n",
            "Epoch: 6, train loss: 147.27793884277344\n",
            "Epoch: 7, train loss: 141.01046752929688\n",
            "Epoch: 8, train loss: 136.76629638671875\n",
            "Epoch: 9, train loss: 133.7188720703125\n",
            "rmse: 10.381719589233398\n",
            "Epoch: 0, train loss: 54677.92578125\n",
            "Epoch: 1, train loss: 149.18621826171875\n",
            "Epoch: 2, train loss: 127.37251281738281\n",
            "Epoch: 3, train loss: 123.49671936035156\n",
            "Epoch: 4, train loss: 122.24486541748047\n",
            "Epoch: 5, train loss: 121.45977783203125\n",
            "Epoch: 6, train loss: 121.05802917480469\n",
            "Epoch: 7, train loss: 120.77581787109375\n",
            "Epoch: 8, train loss: 120.69970703125\n",
            "Epoch: 9, train loss: 120.45472717285156\n",
            "rmse: 9.706402778625488\n",
            "Epoch: 0, train loss: 9445.283203125\n",
            "Epoch: 1, train loss: 306.7610778808594\n",
            "Epoch: 2, train loss: 813.2506103515625\n",
            "Epoch: 3, train loss: 303.00909423828125\n",
            "Epoch: 4, train loss: 331.12835693359375\n",
            "Epoch: 5, train loss: 208.39190673828125\n",
            "Epoch: 6, train loss: 187.1970672607422\n",
            "Epoch: 7, train loss: 307.94891357421875\n",
            "Epoch: 8, train loss: 168.47686767578125\n",
            "Epoch: 9, train loss: 165.93817138671875\n",
            "rmse: 12.837060928344727\n"
          ]
        }
      ]
    },
    {
      "cell_type": "code",
      "source": [
        "plt.title('Зависимость rmse от learning rate')\n",
        "plt.xlabel('learning rate')\n",
        "plt.ylabel('Loss')\n",
        "plt.xticks(ticks=[0, 1, 2], labels=[0.000001, 0.00001, 0.0001])\n",
        "plt.plot(losses)\n",
        "plt.show()"
      ],
      "metadata": {
        "colab": {
          "base_uri": "https://localhost:8080/",
          "height": 472
        },
        "id": "DGmHS7av58Y-",
        "outputId": "2172fcfb-1177-4d2e-fae1-ff421e66c0e6"
      },
      "execution_count": null,
      "outputs": [
        {
          "output_type": "display_data",
          "data": {
            "text/plain": [
              "<Figure size 640x480 with 1 Axes>"
            ],
            "image/png": "[encoded data removed]"
          },
          "metadata": {}
        }
      ]
    },
    {
      "cell_type": "markdown",
      "source": [
        "Посмотрели на размер метрики при разных значениях learning rate, так как мы всегда выводим среднюю ошибку по батчам на всех десяти эпохах, мы видим, что при слишком маленьком шаге градиент у нас очень медленно сходится и не доходит за заданное количество итераций до минимума (или просто самоого маленького значения, которое возможно при такой архитектуре). При lr = 0.00001 путь градиента является оптимальным, а при lr = 0.0001 при приближении к минимуму градиент не может сойтись до значения, до которого он доходил в предыдущем случае. При больших значениях лоссы улетают в наны. (НАПИСАТЬ ПОЧЕМУ). Однако это самое простое, что мы можем сделать с шагом градиента. В SGD оптимайзере есть параметр momentum, который помогает улучшить и ускорить сходимость градиента, так как накапливает информацию о предыдщуих итерациях. В статье https://medium.com/analytics-vidhya/hyper-parameters-tuning-practices-learning-rate-batch-size-momentum-and-weight-decay-4b30f3c19ae8 советуют рассмотреть значения этого гиперпараметра, равные 0.9, 0.95, 0.97, 0.99. Однако я пробовала много значений и не могу сказать, что эти значения самые оптимальные. Скорее всего потому что в статье расматривают общие случаи: более сложные архитектуры, где пристуствуют не только линейные слои. Поэтому рассмотрим разные значения и выберем тот, который подходит именно для нашего случая. Чем больше этот гиперпараметр, тем быстрее сходится градиент."
      ],
      "metadata": {
        "id": "fwuGKqOy477o"
      }
    },
    {
      "cell_type": "code",
      "source": [
        "losses_2 = []\n",
        "for momentum in [0.5, 0.7, 0.9, 0.95]:\n",
        "    train_set = My_Dataset(X_train_scaled, y_train)\n",
        "    train_loader = torch.utils.data.DataLoader(train_set, batch_size=64, shuffle=True)\n",
        "\n",
        "    test_set = My_Dataset(X_test_scaled, y_test)\n",
        "    test_loader = torch.utils.data.DataLoader(test_set, batch_size=64, shuffle=False)\n",
        "\n",
        "    model = nn.Sequential(\n",
        "          nn.Linear(X_train.shape[1], 45),\n",
        "          nn.ReLU(),\n",
        "          nn.Linear(45, 1)\n",
        "          ).to(device)\n",
        "\n",
        "    optimizer = torch.optim.SGD(model.parameters(), lr=0.00001, momentum=momentum)\n",
        "    criterion = torch.nn.MSELoss()\n",
        "    train(model, optimizer, criterion, train_loader, test_loader)\n",
        "    losses_2.append(test(model, criterion, test_loader))"
      ],
      "metadata": {
        "colab": {
          "base_uri": "https://localhost:8080/"
        },
        "id": "wxGJpjxn60TN",
        "outputId": "9281ec98-ffb8-4b0a-a904-47d151d8b167"
      },
      "execution_count": null,
      "outputs": [
        {
          "output_type": "stream",
          "name": "stdout",
          "text": [
            "Epoch: 0, train loss: 28890.205078125\n",
            "Epoch: 1, train loss: 140.09188842773438\n",
            "Epoch: 2, train loss: 127.40006256103516\n",
            "Epoch: 3, train loss: 121.70330047607422\n",
            "Epoch: 4, train loss: 120.90784454345703\n",
            "Epoch: 5, train loss: 120.65397644042969\n",
            "Epoch: 6, train loss: 120.44147491455078\n",
            "Epoch: 7, train loss: 120.39492797851562\n",
            "Epoch: 8, train loss: 120.31407165527344\n",
            "Epoch: 9, train loss: 120.25086975097656\n",
            "rmse: 9.95572280883789\n",
            "Epoch: 0, train loss: 24858.109375\n",
            "Epoch: 1, train loss: 328.7634582519531\n",
            "Epoch: 2, train loss: 178.54286193847656\n",
            "Epoch: 3, train loss: 147.703857421875\n",
            "Epoch: 4, train loss: 133.55294799804688\n",
            "Epoch: 5, train loss: 122.462890625\n",
            "Epoch: 6, train loss: 120.91426086425781\n",
            "Epoch: 7, train loss: 120.59038543701172\n",
            "Epoch: 8, train loss: 120.47557067871094\n",
            "Epoch: 9, train loss: 120.45156860351562\n",
            "rmse: 9.659466743469238\n",
            "Epoch: 0, train loss: 17172.384765625\n",
            "Epoch: 1, train loss: 314.58282470703125\n",
            "Epoch: 2, train loss: 264.65191650390625\n",
            "Epoch: 3, train loss: 229.17112731933594\n",
            "Epoch: 4, train loss: 140.57310485839844\n",
            "Epoch: 5, train loss: 196.7469940185547\n",
            "Epoch: 6, train loss: 137.69662475585938\n",
            "Epoch: 7, train loss: 125.12982940673828\n",
            "Epoch: 8, train loss: 123.59930419921875\n",
            "Epoch: 9, train loss: 122.33387756347656\n",
            "rmse: 9.899590492248535\n",
            "Epoch: 0, train loss: 17034.2109375\n",
            "Epoch: 1, train loss: 371.282958984375\n",
            "Epoch: 2, train loss: 281.89935302734375\n",
            "Epoch: 3, train loss: 200.605224609375\n",
            "Epoch: 4, train loss: 154.14321899414062\n",
            "Epoch: 5, train loss: 159.29388427734375\n",
            "Epoch: 6, train loss: 159.34901428222656\n",
            "Epoch: 7, train loss: 140.49977111816406\n",
            "Epoch: 8, train loss: 138.14932250976562\n",
            "Epoch: 9, train loss: 133.0301513671875\n",
            "rmse: 9.691679954528809\n"
          ]
        }
      ]
    },
    {
      "cell_type": "code",
      "source": [
        "plt.title('Зависимость rmse от momentum')\n",
        "plt.xlabel('momentum')\n",
        "plt.ylabel('Loss')\n",
        "plt.xticks(ticks=[0, 1, 2, 3], labels=[0.5, 0.7, 0.9, 0.95])\n",
        "plt.plot(losses_2)\n",
        "plt.show()"
      ],
      "metadata": {
        "colab": {
          "base_uri": "https://localhost:8080/",
          "height": 472
        },
        "id": "KsR4UPzHnJ9J",
        "outputId": "97bf4200-4768-4787-a327-0a006f209783"
      },
      "execution_count": null,
      "outputs": [
        {
          "output_type": "display_data",
          "data": {
            "text/plain": [
              "<Figure size 640x480 with 1 Axes>"
            ],
            "image/png": "[encoded data removed]"
          },
          "metadata": {}
        }
      ]
    },
    {
      "cell_type": "markdown",
      "source": [
        "Самое низкое значение rmse получилось при momentum = 0.7. Качество все же значительно не изменяется, попробуем поэкспериментировать с количеством нейронов в скрытых слоях. Я нашла статью, где из разных исследований сделали вывод о разных оптимальных значениях числа нейронов в скрытых слоях. В начале у меня это число равно 45 (90/2), так как имеется такой совет: \"The number of hidden neurons should be less than twice the size of the input layer\". Также есть такая рекомендация: \"The number of hidden neurons should be 2/3 the size of the input layer, plus the size of the output layer\". Попробуем число нейронов равное 90 * (2/3) + 1 = 61. Статья: https://medium.com/geekculture/introduction-to-neural-network-2f8b8221fbd3"
      ],
      "metadata": {
        "id": "e2LwRVZaplUl"
      }
    },
    {
      "cell_type": "code",
      "source": [
        "# происходит путаница с названиями, поэтому лучше еще раз здесь продублирую\n",
        "\n",
        "X = df.iloc[:, 1:].values\n",
        "y = df.iloc[:, 0].values\n",
        "\n",
        "train_size = 463715\n",
        "X_train = X[:train_size, :]\n",
        "y_train = y[:train_size]\n",
        "X_test = X[train_size:, :]\n",
        "y_test = y[train_size:]"
      ],
      "metadata": {
        "id": "qb9JsAI135Zx"
      },
      "execution_count": null,
      "outputs": []
    },
    {
      "cell_type": "code",
      "source": [
        "X_train_scaled = scaler.fit_transform(X_train)\n",
        "X_test_scaled = scaler.transform(X_test)"
      ],
      "metadata": {
        "id": "Q1kMRKfn37ij"
      },
      "execution_count": null,
      "outputs": []
    },
    {
      "cell_type": "code",
      "execution_count": null,
      "metadata": {
        "id": "KdsCX41v397f"
      },
      "outputs": [],
      "source": [
        "train_set = My_Dataset(X_train_scaled, y_train)\n",
        "train_loader = torch.utils.data.DataLoader(train_set, batch_size=64, shuffle=True)\n",
        "\n",
        "test_set = My_Dataset(X_test_scaled, y_test)\n",
        "test_loader = torch.utils.data.DataLoader(test_set, batch_size=64, shuffle=False)\n",
        "\n",
        "model = nn.Sequential(\n",
        "      nn.Linear(X_train.shape[1], 61),\n",
        "      nn.ReLU(),\n",
        "      nn.Linear(61, 1)\n",
        "    ).to(device)\n",
        "optimizer = torch.optim.SGD(model.parameters(), lr=0.00001, momentum=0.7)\n",
        "criterion = torch.nn.MSELoss()"
      ]
    },
    {
      "cell_type": "code",
      "execution_count": null,
      "metadata": {
        "id": "eIcGEZVz4Ccy"
      },
      "outputs": [],
      "source": [
        "def train(model, optimizer, criterion, train_loader, test_loader):\n",
        "    \"\"\"\n",
        "    params:\n",
        "        model - torch.nn.Module to be fitted\n",
        "        optimizer - model optimizer\n",
        "        criterion - loss function from torch.nn\n",
        "        train_loader - torch.utils.data.Dataloader with train set\n",
        "        test_loader - torch.utils.data.Dataloader with test set\n",
        "                      (if you wish to validate during training)\n",
        "    \"\"\"\n",
        "    train_final = []\n",
        "    for epoch in range(10):\n",
        "        train_loss = []\n",
        "        for i, batch in enumerate(train_loader):\n",
        "            x_train, y_train = batch['sample'], batch['target'].to(torch.float)\n",
        "            y_pred = model(x_train.to(device))\n",
        "            loss = criterion(y_pred, y_train.to(device))\n",
        "            train_loss.append(loss.cpu().detach().numpy())\n",
        "            loss.backward()\n",
        "            optimizer.step()\n",
        "            optimizer.zero_grad()\n",
        "        print(f\"Epoch: {epoch}, train loss: {np.mean(train_loss)}\")\n",
        "        train_final.append(np.mean(train_loss))\n",
        "    return train_final\n",
        "\n",
        "def test(model, criterion, test_loader):\n",
        "    \"\"\"\n",
        "    params:\n",
        "        model - torch.nn.Module to be evaluated on test set\n",
        "        criterion - loss function from torch.nn\n",
        "        test_loader - torch.utils.data.Dataloader with test set\n",
        "    ----------\n",
        "    returns:\n",
        "        predicts - torch.tensor with shape (len(test_loader.dataset), ),\n",
        "                   which contains predictions for test objects\n",
        "    \"\"\"\n",
        "    with torch.no_grad():\n",
        "        test_loss = []\n",
        "        for j, val_batch in enumerate(test_loader):\n",
        "            x_val, y_val = val_batch['sample'], val_batch['target']\n",
        "            y_pred = model(x_val.to(device))\n",
        "            loss = torch.sqrt(criterion(y_pred, y_val.to(device)))\n",
        "            test_loss.append(loss.cpu().numpy())\n",
        "        print(f'rmse: {np.mean(test_loss)}')\n",
        "\n",
        "    # так как мы считаем лосс на батче, то и предсказания у нас будут размера батча, поэтому не будем сравнивать размер того, что выдает нам функция test() с размером исходной тестовой выборки. Лучше посмотрим на качество.\n",
        "\n"
      ]
    },
    {
      "cell_type": "code",
      "source": [
        "final_train = train(model, optimizer, criterion, train_loader, test_loader)"
      ],
      "metadata": {
        "colab": {
          "base_uri": "https://localhost:8080/"
        },
        "outputId": "7da5598d-1d14-411b-802e-7725017b138f",
        "id": "S9-xOycp4HSU"
      },
      "execution_count": null,
      "outputs": [
        {
          "output_type": "stream",
          "name": "stderr",
          "text": [
            "/usr/local/lib/python3.10/dist-packages/torch/nn/modules/loss.py:535: UserWarning: Using a target size (torch.Size([64])) that is different to the input size (torch.Size([64, 1])). This will likely lead to incorrect results due to broadcasting. Please ensure they have the same size.\n",
            "  return F.mse_loss(input, target, reduction=self.reduction)\n",
            "/usr/local/lib/python3.10/dist-packages/torch/nn/modules/loss.py:535: UserWarning: Using a target size (torch.Size([35])) that is different to the input size (torch.Size([35, 1])). This will likely lead to incorrect results due to broadcasting. Please ensure they have the same size.\n",
            "  return F.mse_loss(input, target, reduction=self.reduction)\n"
          ]
        },
        {
          "output_type": "stream",
          "name": "stdout",
          "text": [
            "Epoch: 0, train loss: 21521.23046875\n",
            "Epoch: 1, train loss: 176.37442016601562\n",
            "Epoch: 2, train loss: 190.54946899414062\n",
            "Epoch: 3, train loss: 188.5045166015625\n"
          ]
        }
      ]
    },
    {
      "cell_type": "code",
      "source": [
        "test(model, criterion, test_loader)"
      ],
      "metadata": {
        "id": "JC47Q49V4KRc"
      },
      "execution_count": null,
      "outputs": []
    },
    {
      "cell_type": "code",
      "source": [
        "plt.title('Loss на тренировочной выборке')\n",
        "plt.xlabel('epoch')\n",
        "plt.ylabel('loss')\n",
        "plt.plot(final_train)\n",
        "plt.show()"
      ],
      "metadata": {
        "id": "BgTZ3iA04P40"
      },
      "execution_count": null,
      "outputs": []
    },
    {
      "cell_type": "markdown",
      "source": [
        "Лучше не стало, стало чуть хуже. Но качество все же не меняется значительно. Попробуем отнормировать таргет, как рекомендовалось в задании."
      ],
      "metadata": {
        "id": "XLYqdcjkQzzJ"
      }
    },
    {
      "cell_type": "code",
      "source": [
        "# происходит путаница с названиями, поэтому лучше еще раз здесь продублирую\n",
        "\n",
        "X = df.iloc[:, 1:].values\n",
        "y = df.iloc[:, 0].values\n",
        "\n",
        "train_size = 463715\n",
        "X_train = X[:train_size, :]\n",
        "y_train = y[:train_size]\n",
        "X_test = X[train_size:, :]\n",
        "y_test = y[train_size:]"
      ],
      "metadata": {
        "id": "RIr-GhoebYyL"
      },
      "execution_count": null,
      "outputs": []
    },
    {
      "cell_type": "code",
      "source": [
        "X_train_scaled = scaler.fit_transform(X_train)\n",
        "X_test_scaled = scaler.transform(X_test)"
      ],
      "metadata": {
        "id": "s27qgw2XbdM8"
      },
      "execution_count": null,
      "outputs": []
    },
    {
      "cell_type": "code",
      "execution_count": null,
      "metadata": {
        "id": "4t-iQ6-OXP10"
      },
      "outputs": [],
      "source": [
        "target_scaler = StandardScaler()\n",
        "y_train_scaled = target_scaler.fit_transform(y_train.reshape(-1, 1))\n",
        "y_test_scaled = target_scaler.transform(y_test.reshape(-1, 1))\n",
        "\n",
        "train_set = My_Dataset(X_train_scaled, y_train_scaled)\n",
        "train_loader = torch.utils.data.DataLoader(train_set, batch_size=64, shuffle=True)\n",
        "\n",
        "test_set = My_Dataset(X_test_scaled, y_test_scaled)\n",
        "test_loader = torch.utils.data.DataLoader(test_set, batch_size=64, shuffle=False)\n",
        "\n",
        "model = nn.Sequential(\n",
        "      nn.Linear(X_train.shape[1], 45),\n",
        "      nn.ReLU(),\n",
        "      nn.Linear(45, 1)\n",
        "    ).to(device)\n",
        "optimizer = torch.optim.SGD(model.parameters(), lr=0.0001)\n",
        "criterion = torch.nn.MSELoss()"
      ]
    },
    {
      "cell_type": "code",
      "execution_count": null,
      "metadata": {
        "id": "ksSmbTsDXu-G"
      },
      "outputs": [],
      "source": [
        "def train(model, optimizer, criterion, train_loader, test_loader):\n",
        "    \"\"\"\n",
        "    params:\n",
        "        model - torch.nn.Module to be fitted\n",
        "        optimizer - model optimizer\n",
        "        criterion - loss function from torch.nn\n",
        "        train_loader - torch.utils.data.Dataloader with train set\n",
        "        test_loader - torch.utils.data.Dataloader with test set\n",
        "                      (if you wish to validate during training)\n",
        "    \"\"\"\n",
        "    train_final = []\n",
        "    for epoch in range(10):\n",
        "        train_loss = []\n",
        "        for i, batch in enumerate(train_loader):\n",
        "            x_train, y_train = batch['sample'], batch['target'].to(torch.float)\n",
        "            y_pred = model(x_train.to(device))\n",
        "            loss = criterion(y_pred, y_train.to(device))\n",
        "            train_loss.append(loss.cpu().detach().numpy())\n",
        "            loss.backward()\n",
        "            optimizer.step()\n",
        "            optimizer.zero_grad()\n",
        "        print(f\"Epoch: {epoch}, train loss: {np.mean(train_loss)}\")\n",
        "        train_final.append(np.mean(train_loss))\n",
        "    return train_final\n",
        "\n",
        "def test(model, criterion, test_loader):\n",
        "    \"\"\"\n",
        "    params:\n",
        "        model - torch.nn.Module to be evaluated on test set\n",
        "        criterion - loss function from torch.nn\n",
        "        test_loader - torch.utils.data.Dataloader with test set\n",
        "    ----------\n",
        "    returns:\n",
        "        predicts - torch.tensor with shape (len(test_loader.dataset), ),\n",
        "                   which contains predictions for test objects\n",
        "    \"\"\"\n",
        "    with torch.no_grad():\n",
        "        test_loss = []\n",
        "        for j, val_batch in enumerate(test_loader):\n",
        "            x_val, y_val = val_batch['sample'], val_batch['target']\n",
        "            y_pred = model(x_val.to(device))\n",
        "            y_val = torch.from_numpy(target_scaler.inverse_transform(y_val))\n",
        "            y_pred = torch.from_numpy(target_scaler.inverse_transform(y_pred))\n",
        "            loss = torch.sqrt(criterion(y_pred, y_val.to(device)))\n",
        "            test_loss.append(loss.cpu().numpy())\n",
        "        print(f'rmse: {np.mean(test_loss)}')\n",
        "\n",
        "    # так как мы считаем лосс на батче, то и предсказания у нас будут размера батча, поэтому не будем сравнивать размер того, что выдает нам функция test() с размером исходной тестовой выборки. Лучше посмотрим на качество.\n",
        "\n"
      ]
    },
    {
      "cell_type": "code",
      "source": [
        "final_train = train(model, optimizer, criterion, train_loader, test_loader)"
      ],
      "metadata": {
        "colab": {
          "base_uri": "https://localhost:8080/"
        },
        "id": "SJ7up5gIHSJI",
        "outputId": "4f562ebe-4b2b-4b1b-8353-6084cfc6992a"
      },
      "execution_count": null,
      "outputs": [
        {
          "output_type": "stream",
          "name": "stdout",
          "text": [
            "Epoch: 0, train loss: 0.9811432957649231\n",
            "Epoch: 1, train loss: 0.9218115210533142\n",
            "Epoch: 2, train loss: 0.884279727935791\n",
            "Epoch: 3, train loss: 0.8546460270881653\n",
            "Epoch: 4, train loss: 0.8303874135017395\n",
            "Epoch: 5, train loss: 0.8105705380439758\n",
            "Epoch: 6, train loss: 0.7946363687515259\n",
            "Epoch: 7, train loss: 0.781704306602478\n",
            "Epoch: 8, train loss: 0.7711099982261658\n",
            "Epoch: 9, train loss: 0.7623227834701538\n"
          ]
        }
      ]
    },
    {
      "cell_type": "code",
      "source": [
        "test(model, criterion, test_loader)"
      ],
      "metadata": {
        "colab": {
          "base_uri": "https://localhost:8080/"
        },
        "id": "czA8ojdnIzan",
        "outputId": "4d0fe5cd-e91a-4fc3-96c2-adabe96f972a"
      },
      "execution_count": null,
      "outputs": [
        {
          "output_type": "stream",
          "name": "stdout",
          "text": [
            "rmse: 8.562826614877302\n"
          ]
        }
      ]
    },
    {
      "cell_type": "code",
      "source": [
        "plt.title('Loss на тренировочной выборке')\n",
        "plt.xlabel('epoch')\n",
        "plt.ylabel('loss')\n",
        "plt.plot(final_train)\n",
        "plt.show()"
      ],
      "metadata": {
        "colab": {
          "base_uri": "https://localhost:8080/",
          "height": 472
        },
        "id": "CxSXkKk_qZ-5",
        "outputId": "ee7e2b2e-0e4d-48b1-e2ca-c552371bf9cf"
      },
      "execution_count": null,
      "outputs": [
        {
          "output_type": "display_data",
          "data": {
            "text/plain": [
              "<Figure size 640x480 with 1 Axes>"
            ],
            "image/png": "[encoded data removed]"
          },
          "metadata": {}
        }
      ]
    },
    {
      "cell_type": "markdown",
      "source": [
        "Лосс такой маленький, так как таргет отнормирован. Вроде бы модель не переобучается. Можем остановиться на этом."
      ],
      "metadata": {
        "id": "0GjkWtKK447C"
      }
    },
    {
      "cell_type": "markdown",
      "metadata": {
        "id": "bine9EES6TIn"
      },
      "source": [
        "## Задание 3. (0 баллов, но при невыполнении максимум за все задание &mdash; 0 баллов)\n",
        "\n",
        "Напишите небольшой отчет о том, как вы добились полученного качества: какие средства использовали и какие эксперименты проводили. Подробно расскажите об архитектурах и значениях гиперпараметров, а также какие метрики на тесте они показывали. Чтобы отчет был зачтен, необходимо привести хотя бы 3 эксперимента."
      ]
    },
    {
      "cell_type": "markdown",
      "source": [
        "1. Сама модель получилась несложная, состоит из двух линейных слоев и функции активации ReLU. Функция активации, оптимизатор SGD и функция потерь MSE Loss были выбрана исходя из здравого смысла и того, что написано в статьях:\n",
        "- https://medium.com/@learnwithwhiteboard_digest/8-tips-on-how-to-choose-neural-network-architecture-e50590e99ab1\n",
        "- https://towardsdatascience.com/-a-guide-to-an-efficient-way-to-build-neural-network-architectures-part-i-hyper-parameter-8129009f131b\n",
        "- https://colab.research.google.com/corgiredirector?site=https%3A%2F%2Fodsc.medium.com%2Fguidelines-for-choosing-an-optimizer-and-loss-functions-when-training-neural-networks-efcf97b7aa2\n",
        "Если коротко, то MSE подходит для задачи регрессии и наши даннеы не содержат выбросов. Оптимизатор SGD и функция активации ReLU наиболее часто используются и хорошо показывают себя на всех задачах, тем более с градиентным спуском мы уже много работали и знаем про его разные модификации.  \n",
        "2. Далее я подбирала гиперпараметры learning rate и momentum. Про последний нам также рассказывали на лекции, и мне было интересно его попробовать.\n",
        "3. Посмотрела на разные значения числа нейронов (отталкивалась от того, что пишут в статьях)\n",
        "4. Отнормировала таргет, что значительно улучшило качество.\n",
        "5. Извините, что каждый раз дублировала код, знаю, что некоторые куски можно было не дублировать, но у меня один раз случилась ошибка из-за того, что тренировалась с другим массивом, и я не могла найти ошибку около 3 часов, так что решила не рисковать больше."
      ],
      "metadata": {
        "id": "d1w8Kx1w34PP"
      }
    },
    {
      "cell_type": "code",
      "source": [],
      "metadata": {
        "id": "SHeHz5bBbeRE"
      },
      "execution_count": null,
      "outputs": []
    }
  ],
  "metadata": {
    "colab": {
      "provenance": []
    },
    "kernelspec": {
      "display_name": "Python 3 (ipykernel)",
      "language": "python",
      "name": "python3"
    },
    "language_info": {
      "codemirror_mode": {
        "name": "ipython",
        "version": 3
      },
      "file_extension": ".py",
      "mimetype": "text/x-python",
      "name": "python",
      "nbconvert_exporter": "python",
      "pygments_lexer": "ipython3",
      "version": "3.9.7"
    }
  },
  "nbformat": 4,
  "nbformat_minor": 0
}